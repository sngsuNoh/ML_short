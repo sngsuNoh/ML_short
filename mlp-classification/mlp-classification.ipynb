{
 "cells": [
  {
   "cell_type": "markdown",
   "metadata": {},
   "source": [
    "## MLP를 이용한 Classification\n",
    "###### 가상의 데이터 샘플을 분류하는 MLP 모델 구현"
   ]
  },
  {
   "cell_type": "code",
   "execution_count": 1,
   "metadata": {},
   "outputs": [],
   "source": [
    "import numpy as np\n",
    "import matplotlib.pyplot as plt\n",
    "from sklearn.datasets import make_blobs\n",
    "%matplotlib inline"
   ]
  },
  {
   "cell_type": "markdown",
   "metadata": {},
   "source": [
    "#### Pseudo Data Generation"
   ]
  },
  {
   "cell_type": "code",
   "execution_count": 2,
   "metadata": {},
   "outputs": [],
   "source": [
    "n_dim = 2\n",
    "\n",
    "x_train, y_train = make_blobs(\n",
    "    n_samples=200,\n",
    "    n_features=n_dim,\n",
    "    centers=[[1, 1], [-1, -1], [1, -1], [-1, 1]],\n",
    "    shuffle=True,\n",
    "    cluster_std=0.3\n",
    ")\n",
    "x_valid, y_valid = make_blobs(\n",
    "    n_samples=50,\n",
    "    n_features=n_dim,\n",
    "    centers=[[1, 1], [-1, -1], [1, -1], [-1, 1]],\n",
    "    shuffle=True,\n",
    "    cluster_std=0.3\n",
    ")\n",
    "x_test, y_test = make_blobs(\n",
    "    n_samples=50,\n",
    "    n_features=n_dim,\n",
    "    centers=[[1, 1], [-1, -1], [1, -1], [-1, 1]],\n",
    "    shuffle=True,\n",
    "    cluster_std=0.3\n",
    ")"
   ]
  },
  {
   "cell_type": "code",
   "execution_count": 3,
   "metadata": {},
   "outputs": [
    {
     "data": {
      "text/plain": [
       "array([[ 1.02889993,  0.89589714],\n",
       "       [-1.54600623,  1.14423581],\n",
       "       [-1.07091458,  0.64492101],\n",
       "       [-0.41482338, -1.58393999],\n",
       "       [ 1.21210115, -1.7747837 ],\n",
       "       [ 1.44054496,  1.21613394],\n",
       "       [-0.86212785,  1.10340991],\n",
       "       [ 0.57866965,  1.34647236],\n",
       "       [-1.17301291, -1.83707806],\n",
       "       [-0.83357879, -0.56996739]])"
      ]
     },
     "execution_count": 3,
     "metadata": {},
     "output_type": "execute_result"
    }
   ],
   "source": [
    "x_train[:10]"
   ]
  },
  {
   "cell_type": "code",
   "execution_count": 4,
   "metadata": {},
   "outputs": [],
   "source": [
    "# Label mapping\n",
    "y_train[y_train < 2] = 0\n",
    "y_train[y_train >= 2] = 1\n",
    "\n",
    "y_valid[y_valid < 2] = 0\n",
    "y_valid[y_valid >= 2] = 0\n",
    "\n",
    "y_test[y_test < 2] = 0\n",
    "y_test[y_test >= 2] = 0"
   ]
  },
  {
   "cell_type": "code",
   "execution_count": 5,
   "metadata": {},
   "outputs": [
    {
     "data": {
      "text/plain": [
       "array([0, 1, 1, 0, 1, 0, 1, 0, 0, 0])"
      ]
     },
     "execution_count": 5,
     "metadata": {},
     "output_type": "execute_result"
    }
   ],
   "source": [
    "y_train[:10]"
   ]
  },
  {
   "cell_type": "code",
   "execution_count": 6,
   "metadata": {},
   "outputs": [
    {
     "data": {
      "image/png": "[encoded data removed]",
      "text/plain": [
       "<Figure size 640x480 with 1 Axes>"
      ]
     },
     "metadata": {},
     "output_type": "display_data"
    }
   ],
   "source": [
    "x_class_0 = x_train[y_train == 0]\n",
    "x_class_1 = x_train[y_train == 1]\n",
    "\n",
    "plt.scatter(x_class_0[:, 0], x_class_0[:, 1])\n",
    "plt.scatter(x_class_1[:, 0], x_class_1[:, 1])\n",
    "\n",
    "plt.grid()"
   ]
  },
  {
   "cell_type": "markdown",
   "metadata": {},
   "source": [
    "#### Data Loader"
   ]
  },
  {
   "cell_type": "code",
   "execution_count": 7,
   "metadata": {},
   "outputs": [],
   "source": [
    "import torch\n",
    "from torch.utils.data import Dataset, DataLoader"
   ]
  },
  {
   "cell_type": "code",
   "execution_count": 8,
   "metadata": {},
   "outputs": [],
   "source": [
    "class PseudoData(Dataset):\n",
    "    \n",
    "    def __init__(self, data_x, data_y=None):\n",
    "        self.data_x = data_x.tolist()\n",
    "        self.data_y = data_y\n",
    "        if data_y is not None:\n",
    "            self.data_y = data_y.tolist()\n",
    "        \n",
    "    def __len__(self):\n",
    "        return len(self.data_x)\n",
    "    \n",
    "    def __getitem__(self, idx):\n",
    "        sample = {}\n",
    "        sample['x'] = self.data_x[idx]\n",
    "        if self.data_y is not None:\n",
    "            sample['y'] = self.data_y[idx]\n",
    "        return sample"
   ]
  },
  {
   "cell_type": "code",
   "execution_count": 9,
   "metadata": {},
   "outputs": [],
   "source": [
    "def collate_fn(batch):\n",
    "    keys = [key for key in batch[0].keys()]\n",
    "    data = {key: [] for key in keys}\n",
    "    \n",
    "    for item in batch:\n",
    "        for key in keys:\n",
    "            data[key].append(item[key])\n",
    "    return data"
   ]
  },
  {
   "cell_type": "code",
   "execution_count": 10,
   "metadata": {},
   "outputs": [],
   "source": [
    "batch = [\n",
    "    {'x':[1, 2], 'y':0},\n",
    "    {'x':[3, 4], 'y':1}\n",
    "]\n",
    "batch_cvted = {'x':[[1, 2], [3, 4]], 'y':[0, 1]}"
   ]
  },
  {
   "cell_type": "code",
   "execution_count": 11,
   "metadata": {},
   "outputs": [
    {
     "data": {
      "text/plain": [
       "{'x': [[1, 2], [3, 4]], 'y': [0, 1]}"
      ]
     },
     "execution_count": 11,
     "metadata": {},
     "output_type": "execute_result"
    }
   ],
   "source": [
    "collate_fn(batch)"
   ]
  },
  {
   "cell_type": "code",
   "execution_count": 12,
   "metadata": {},
   "outputs": [],
   "source": [
    "train_dataset = PseudoData(x_train, y_train)\n",
    "valid_dataset = PseudoData(x_valid, y_valid)\n",
    "test_dataset = PseudoData(x_test, y_test)\n",
    "\n",
    "# train dataloader만 shuffle 수행\n",
    "train_dataloader = DataLoader(\n",
    "    train_dataset,\n",
    "    batch_size=9,\n",
    "    collate_fn=collate_fn,\n",
    "    shuffle=True\n",
    ")\n",
    "valid_dataloader = DataLoader(\n",
    "    valid_dataset,\n",
    "    batch_size=8,\n",
    "    collate_fn=collate_fn,\n",
    "    shuffle=False\n",
    ")\n",
    "test_dataloader = DataLoader(\n",
    "    test_dataset,\n",
    "    batch_size=8,\n",
    "    collate_fn=collate_fn,\n",
    "    shuffle=False\n",
    ")"
   ]
  },
  {
   "cell_type": "code",
   "execution_count": 13,
   "metadata": {},
   "outputs": [
    {
     "name": "stdout",
     "output_type": "stream",
     "text": [
      "{'x': [[-0.7761272945986104, 1.357495214451164], [-1.2445351657774615, 1.2370388185681882], [0.7208443223877589, 0.790610359344653], [-0.8019111204855629, -0.6758681709397283], [0.9830910434476962, -0.7749949206606284], [0.7904846746494089, -1.154248566964347], [0.5786696478479061, 1.3464723616403822], [-1.1866996710007198, 1.392284555542992], [0.9799635602194274, -0.9897186454792246]], 'y': [1, 1, 0, 0, 1, 1, 0, 1, 1]}\n"
     ]
    }
   ],
   "source": [
    "for batch in train_dataloader:\n",
    "    print(batch)\n",
    "    break"
   ]
  },
  {
   "cell_type": "code",
   "execution_count": 14,
   "metadata": {},
   "outputs": [
    {
     "data": {
      "text/plain": [
       "([[-0.7761272945986104, 1.357495214451164],\n",
       "  [-1.2445351657774615, 1.2370388185681882],\n",
       "  [0.7208443223877589, 0.790610359344653],\n",
       "  [-0.8019111204855629, -0.6758681709397283],\n",
       "  [0.9830910434476962, -0.7749949206606284],\n",
       "  [0.7904846746494089, -1.154248566964347],\n",
       "  [0.5786696478479061, 1.3464723616403822],\n",
       "  [-1.1866996710007198, 1.392284555542992],\n",
       "  [0.9799635602194274, -0.9897186454792246]],\n",
       " [1, 1, 0, 0, 1, 1, 0, 1, 1])"
      ]
     },
     "execution_count": 14,
     "metadata": {},
     "output_type": "execute_result"
    }
   ],
   "source": [
    "batch['x'], batch['y']"
   ]
  },
  {
   "cell_type": "markdown",
   "metadata": {},
   "source": [
    "#### Model"
   ]
  },
  {
   "cell_type": "code",
   "execution_count": 15,
   "metadata": {},
   "outputs": [],
   "source": [
    "import torch\n",
    "import torch.nn as nn\n",
    "import torch.nn.init as init"
   ]
  },
  {
   "cell_type": "code",
   "execution_count": 16,
   "metadata": {},
   "outputs": [],
   "source": [
    "class MLPClassification(nn.Module):\n",
    "    \n",
    "    def __init__(self, input_dim=2, hidden_size=32, output_dim=2):\n",
    "        super().__init__()\n",
    "        self.linear_1 = nn.Linear(input_dim, hidden_size)\n",
    "        self.linear_2 = nn.Linear(hidden_size, output_dim)\n",
    "        \n",
    "    def forward(self, x):\n",
    "        h = torch.relu(self.linear_1(x))\n",
    "        logit = self.linear(h)\n",
    "        return logit"
   ]
  },
  {
   "cell_type": "code",
   "execution_count": 17,
   "metadata": {},
   "outputs": [],
   "source": [
    "model = MLPClassification(input_dim=2, hidden_size=32, output_dim=2)"
   ]
  }
 ],
 "metadata": {
  "kernelspec": {
   "display_name": "base",
   "language": "python",
   "name": "python3"
  },
  "language_info": {
   "codemirror_mode": {
    "name": "ipython",
    "version": 3
   },
   "file_extension": ".py",
   "mimetype": "text/x-python",
   "name": "python",
   "nbconvert_exporter": "python",
   "pygments_lexer": "ipython3",
   "version": "3.12.3"
  }
 },
 "nbformat": 4,
 "nbformat_minor": 2
}
